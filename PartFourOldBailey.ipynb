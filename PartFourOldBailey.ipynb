{
 "cells": [
  {
   "cell_type": "code",
   "execution_count": 277,
   "id": "0d0c289c",
   "metadata": {},
   "outputs": [
    {
     "name": "stdout",
     "output_type": "stream",
     "text": [
      "Requirement already satisfied: beautifulsoup4 in /Users/IqbalAlibhai/opt/miniconda3/lib/python3.8/site-packages (4.11.1)\n",
      "Requirement already satisfied: soupsieve>1.2 in /Users/IqbalAlibhai/opt/miniconda3/lib/python3.8/site-packages (from beautifulsoup4) (2.3.2.post1)\n",
      "Requirement already satisfied: lxml in /Users/IqbalAlibhai/opt/miniconda3/lib/python3.8/site-packages (4.9.0)\n",
      "Requirement already satisfied: pandas in /Users/IqbalAlibhai/opt/miniconda3/lib/python3.8/site-packages (1.4.2)\n",
      "Requirement already satisfied: pytz>=2020.1 in /Users/IqbalAlibhai/opt/miniconda3/lib/python3.8/site-packages (from pandas) (2022.1)\n",
      "Requirement already satisfied: python-dateutil>=2.8.1 in /Users/IqbalAlibhai/opt/miniconda3/lib/python3.8/site-packages (from pandas) (2.8.2)\n",
      "Requirement already satisfied: numpy>=1.18.5 in /Users/IqbalAlibhai/opt/miniconda3/lib/python3.8/site-packages (from pandas) (1.22.4)\n",
      "Requirement already satisfied: six>=1.5 in /Users/IqbalAlibhai/opt/miniconda3/lib/python3.8/site-packages (from python-dateutil>=2.8.1->pandas) (1.16.0)\n"
     ]
    }
   ],
   "source": [
    "!pip install beautifulsoup4\n",
    "!pip install lxml\n",
    "!pip install pandas\n",
    "# !pip install glob\n",
    "\n",
    "import glob\n",
    "import pandas as pd"
   ]
  },
  {
   "cell_type": "code",
   "execution_count": 162,
   "id": "262388ca",
   "metadata": {},
   "outputs": [
    {
     "data": {
      "text/plain": [
       "'/Users/IqbalAlibhai/Documents/School/HIST3814/PartFour/OBO_XML_72/ordinarysAccounts'"
      ]
     },
     "execution_count": 162,
     "metadata": {},
     "output_type": "execute_result"
    }
   ],
   "source": [
    "pwd"
   ]
  },
  {
   "cell_type": "code",
   "execution_count": 163,
   "id": "d3902520",
   "metadata": {},
   "outputs": [
    {
     "data": {
      "text/plain": [
       "'/Users/IqbalAlibhai/Documents/School/HIST3814/PartFour/OBO_XML_72/ordinarysAccounts'"
      ]
     },
     "execution_count": 163,
     "metadata": {},
     "output_type": "execute_result"
    }
   ],
   "source": [
    "import os\n",
    "os.getcwd()\n",
    "path = \"/Users/IqbalAlibhai/Documents/School/HIST3814/PartFour/OBO_XML_72/ordinarysAccounts\"\n",
    "os.chdir(path) \n",
    "os.getcwd()"
   ]
  },
  {
   "cell_type": "code",
   "execution_count": 164,
   "id": "b83be9e3",
   "metadata": {
    "scrolled": true
   },
   "outputs": [],
   "source": [
    "from bs4 import BeautifulSoup\n",
    "tei_doc = 'OA16760705.xml'\n",
    "with open(tei_doc, 'r') as tei:\n",
    "    soup = BeautifulSoup(tei, features=\"xml\")"
   ]
  },
  {
   "cell_type": "code",
   "execution_count": 353,
   "id": "9ec6a00f",
   "metadata": {},
   "outputs": [
    {
     "name": "stdout",
     "output_type": "stream",
     "text": [
      "<Element 'TEI.2' at 0x7fc0e460b540>\n",
      "1\n"
     ]
    },
    {
     "ename": "TypeError",
     "evalue": "'str' object is not callable",
     "output_type": "error",
     "traceback": [
      "\u001b[0;31m---------------------------------------------------------------------------\u001b[0m",
      "\u001b[0;31mTypeError\u001b[0m                                 Traceback (most recent call last)",
      "Input \u001b[0;32mIn [353]\u001b[0m, in \u001b[0;36m<cell line: 8>\u001b[0;34m()\u001b[0m\n\u001b[1;32m      5\u001b[0m \u001b[38;5;28mprint\u001b[39m (root)\n\u001b[1;32m      7\u001b[0m \u001b[38;5;28mprint\u001b[39m(\u001b[38;5;28mlen\u001b[39m(tree\u001b[38;5;241m.\u001b[39mgetroot()))\n\u001b[0;32m----> 8\u001b[0m \u001b[38;5;28mprint\u001b[39m(\u001b[43mroot\u001b[49m\u001b[43m[\u001b[49m\u001b[38;5;241;43m0\u001b[39;49m\u001b[43m]\u001b[49m\u001b[43m[\u001b[49m\u001b[38;5;241;43m0\u001b[39;49m\u001b[43m]\u001b[49m\u001b[43m[\u001b[49m\u001b[38;5;241;43m0\u001b[39;49m\u001b[43m]\u001b[49m\u001b[43m[\u001b[49m\u001b[38;5;241;43m4\u001b[39;49m\u001b[43m]\u001b[49m\u001b[43m[\u001b[49m\u001b[38;5;241;43m0\u001b[39;49m\u001b[43m]\u001b[49m\u001b[38;5;241;43m.\u001b[39;49m\u001b[43mtext\u001b[49m\u001b[43m(\u001b[49m\u001b[43m)\u001b[49m)\n",
      "\u001b[0;31mTypeError\u001b[0m: 'str' object is not callable"
     ]
    }
   ],
   "source": [
    "import xml.etree.ElementTree as ET\n",
    "\n",
    "tree = ET.parse('OA16760517.xml')\n",
    "root = tree.getroot()\n",
    "print (root)\n",
    "\n",
    "print(len(tree.getroot()))\n",
    "print(root[0][0][0][4][0].text())\n",
    "\n",
    "\n",
    "# for node in root.find('text')[0][0][0]:\n",
    "\n",
    "# a = soup.find('placeName',{'id':'OA16760705-geo-4'}).getText()\n",
    "\n",
    "\n",
    "# print (a)\n"
   ]
  },
  {
   "cell_type": "code",
   "execution_count": 345,
   "id": "bffb5727",
   "metadata": {},
   "outputs": [
    {
     "data": {
      "text/plain": [
       "'OA16760705'"
      ]
     },
     "execution_count": 345,
     "metadata": {},
     "output_type": "execute_result"
    }
   ],
   "source": [
    "from os.path import basename, splitext\n",
    "\n",
    "def basename_without_ext(path):\n",
    "    base_name = basename(path)\n",
    "    stem, ext = splitext(base_name)\n",
    "    if stem.endswith('.tei'):\n",
    "        # Return base name without tei file\n",
    "        return stem[0:-4]\n",
    "    else:\n",
    "        return stem\n",
    "    \n",
    "basename_without_ext(tei_doc)"
   ]
  },
  {
   "cell_type": "code",
   "execution_count": 265,
   "id": "b3228c36",
   "metadata": {},
   "outputs": [],
   "source": [
    "\n",
    "import glob\n",
    "\n",
    "\n",
    "\n",
    "def xml_to_csv(path):\n",
    "    xml_list = []\n",
    "    for xml_file in glob.glob(path + 'OA16760705.xml'):\n",
    "        tree = ET.parse(xml_file)\n",
    "        root = tree.getroot()\n",
    "        for member in root.findall('placeName'):\n",
    "            value = (root.find('persName').text,\n",
    "                     int(root.find('gender')[0].text),\n",
    "                     int(root.find('surname')[1].text),\n",
    "                     int(root.find('givenName')[2].text),\n",
    "                     int(root.find('id')[3].text),\n",
    "                     member[0].text,\n",
    "                     int(member[4][0].text),\n",
    "                     int(member[4][1].text),\n",
    "                     int(member[4][2].text),\n",
    "                     int(member[4][3].text)\n",
    "                     )\n",
    "            xml_list.append(value)\n",
    "    column_name = ['id','placeName', 'persName', 'gender', 'givenName', 'surname']\n",
    "    xml_df = pd.DataFrame(xml_list, columns=column_name)\n",
    "    return xml_df\n",
    "\n",
    "\n",
    "def main():\n",
    "    for directory in ['train','test']:\n",
    "        data_path = os.path.join(os.getcwd(), 'PartFour/{}')\n",
    "        xml_df = xml_to_csv(image_path)\n",
    "        xml_df.to_csv('data/{}_labels.csv'.format(directory), index=None)\n",
    "        print('Successfully converted xml to csv.')"
   ]
  },
  {
   "cell_type": "code",
   "execution_count": 320,
   "id": "b5f83d2b",
   "metadata": {
    "scrolled": true
   },
   "outputs": [
    {
     "ename": "SyntaxError",
     "evalue": "invalid syntax (2377488699.py, line 20)",
     "output_type": "error",
     "traceback": [
      "\u001b[0;36m  Input \u001b[0;32mIn [320]\u001b[0;36m\u001b[0m\n\u001b[0;31m    def xml_to_csv(path, csvName)-> None:\u001b[0m\n\u001b[0m    ^\u001b[0m\n\u001b[0;31mSyntaxError\u001b[0m\u001b[0;31m:\u001b[0m invalid syntax\n"
     ]
    }
   ],
   "source": [
    "import csv\n",
    "import xml\n",
    "import os\n",
    "\n",
    "import pandas as pd\n",
    "import glob\n",
    "\n",
    "dfs = glob.glob('/Users/IqbalAlibhai/Documents/School/HIST3814/PartFour/OBO_XML_72/ordinarysAccounts/OA16760517.xml') #path to all xml\n",
    "\n",
    "result = pd.concat([pd.read_xml(df) for df in dfs], ignore_index=True)\n",
    "\n",
    "result.to_xml('/Users/IqbalAlibhai/Documents/School/HIST3814/PartFour/OBO_XML_72/ordinarysAccounts/oldBailey.xml', #ignore_index=False#)\n",
    "\n",
    "os.getcwd()\n",
    "\n",
    "# path = \"/Users/IqbalAlibhai/Documents/School/HIST3814/PartFour/OBO_XML_72/ordinarysAccounts/OA16760517.xml\"\n",
    "# os.chdir(path) \n",
    "# os.getcwd()\n",
    "\n",
    "def xml_to_csv(path, csvName)-> None:\n",
    "    tree = ET.parse(path)\n",
    "    root = tree.getroot()\n",
    "    \n",
    "    with open(csvName, 'w') as csvFile:\n",
    "        writer = csv.writer(csvFile)\n",
    "        headers = (child.tag for child in root[0][0][0][0])\n",
    "        writer.writerow(headers)\n",
    "        numRecords = len(root)\n",
    "    \n",
    "    for record in range(numRecords):\n",
    "        rec = (child.text for child in root[record])\n",
    "        writer.writerow(rec)\n",
    "        \n",
    "        \n",
    "    if name == 'main':\n",
    "        import sys\n",
    "        import pathlib\n",
    "    \n",
    "    try:\n",
    "        path = sys.argv[1]\n",
    "        csvName = sys.argv[2]\n",
    "        \n",
    "    except IndexError:\n",
    "        sys.exit('Tow arguments required. One xml path and one save file name.')\n",
    "        \n",
    "    with pathlib.Path(path) as xmlFile:\n",
    "        if xmlFile.isfile():\n",
    "            xml_to_csv(path,csvName)\n",
    "        else:\n",
    "            sys.exit(f'Did not find {path}')\n",
    "            \n",
    "csvName = \"oldBailey\"\n",
    "xml_to_csv(path, csvName)"
   ]
  },
  {
   "cell_type": "code",
   "execution_count": null,
   "id": "f326da53",
   "metadata": {},
   "outputs": [],
   "source": []
  }
 ],
 "metadata": {
  "kernelspec": {
   "display_name": "Python 3 (ipykernel)",
   "language": "python",
   "name": "python3"
  },
  "language_info": {
   "codemirror_mode": {
    "name": "ipython",
    "version": 3
   },
   "file_extension": ".py",
   "mimetype": "text/x-python",
   "name": "python",
   "nbconvert_exporter": "python",
   "pygments_lexer": "ipython3",
   "version": "3.8.12"
  }
 },
 "nbformat": 4,
 "nbformat_minor": 5
}
